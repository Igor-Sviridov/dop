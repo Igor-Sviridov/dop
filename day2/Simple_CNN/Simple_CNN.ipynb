{
 "cells": [
  {
   "cell_type": "markdown",
   "metadata": {},
   "source": [
    "# Применение свертичных нейронных сетей"
   ]
  },
  {
   "cell_type": "markdown",
   "metadata": {},
   "source": [
    "<a name='1'></a>\n",
    "## 1 - Импорт библиотек"
   ]
  },
  {
   "cell_type": "code",
   "execution_count": 1,
   "metadata": {},
   "outputs": [],
   "source": [
    "import math\n",
    "import numpy as np\n",
    "import h5py\n",
    "import matplotlib.pyplot as plt\n",
    "from matplotlib.pyplot import imread\n",
    "import scipy\n",
    "from PIL import Image\n",
    "import pandas as pd\n",
    "import tensorflow as tf\n",
    "import tensorflow.keras.layers as tfl\n",
    "from tensorflow.python.framework import ops\n",
    "\n",
    "%matplotlib inline\n",
    "np.random.seed(1)"
   ]
  },
  {
   "cell_type": "markdown",
   "metadata": {},
   "source": [
    "<a name='1-1'></a>\n",
    "### 1.1 - Загрузка датасета и его деление на Train/Test части\n",
    "\n",
    "Для данного упражнения будет использован *happy* датасет. Задача заключается в том, чтобы реализовать сверточную нейронную сеть, которая поможет отличить грустных людей от счастливых. "
   ]
  },
  {
   "cell_type": "code",
   "execution_count": 2,
   "metadata": {},
   "outputs": [],
   "source": [
    "def load_dataset(path_to_train, path_to_test):\n",
    "    train_dataset = h5py.File(path_to_train, 'r')\n",
    "    train_x = np.array(train_dataset['train_set_x'][:])\n",
    "    train_y = np.array(train_dataset['train_set_y'][:])\n",
    "\n",
    "    test_dataset = h5py.File(path_to_test, 'r')\n",
    "    test_x = np.array(test_dataset['test_set_x'][:])\n",
    "    test_y = np.array(test_dataset['test_set_y'][:])\n",
    "\n",
    "    # y после reshape\n",
    "    train_y = train_y.reshape((1, train_x.shape[0]))\n",
    "    test_y = test_y.reshape((1, test_y.shape[0]))\n",
    "\n",
    "    return train_x, train_y, test_x, test_y"
   ]
  },
  {
   "cell_type": "code",
   "execution_count": 3,
   "metadata": {},
   "outputs": [
    {
     "name": "stdout",
     "output_type": "stream",
     "text": [
      "number of training examples = 600\n",
      "number of test examples = 150\n",
      "X_train shape: (600, 64, 64, 3)\n",
      "Y_train shape: (600, 1)\n",
      "X_test shape: (150, 64, 64, 3)\n",
      "Y_test shape: (150, 1)\n"
     ]
    }
   ],
   "source": [
    "X_train_orig, Y_train_orig, X_test_orig, Y_test_orig = load_dataset(\"train_happy.h5\",\"test_happy.h5\")\n",
    "\n",
    "# Нормализация значений\n",
    "X_train = X_train_orig/255.\n",
    "X_test = X_test_orig/255.\n",
    "\n",
    "# Reshape\n",
    "Y_train = Y_train_orig.T\n",
    "Y_test = Y_test_orig.T\n",
    "\n",
    "print (\"number of training examples = \" + str(X_train.shape[0]))\n",
    "print (\"number of test examples = \" + str(X_test.shape[0]))\n",
    "print (\"X_train shape: \" + str(X_train.shape))\n",
    "print (\"Y_train shape: \" + str(Y_train.shape))\n",
    "print (\"X_test shape: \" + str(X_test.shape))\n",
    "print (\"Y_test shape: \" + str(Y_test.shape))"
   ]
  },
  {
   "cell_type": "markdown",
   "metadata": {},
   "source": [
    "Выведем изображения из датасета. Изображения имеют размер **64x64** пикселя в RGB формате (3 канала)."
   ]
  },
  {
   "cell_type": "code",
   "execution_count": 4,
   "metadata": {},
   "outputs": [
    {
     "data": {
      "image/png": "[encoded data removed]",
      "text/plain": [
       "<Figure size 640x480 with 1 Axes>"
      ]
     },
     "metadata": {},
     "output_type": "display_data"
    }
   ],
   "source": [
    "index = 12\n",
    "plt.imshow(X_train_orig[index])\n",
    "plt.show()"
   ]
  },
  {
   "cell_type": "markdown",
   "metadata": {},
   "source": [
    "<a name='2'></a>\n",
    "## 2 - Слои в TF Keras \n",
    "\n",
    "В предыдущем модули слои создавались при помощи numpy, вручную. Теперь мы будем использовать фреймворк TF Keras, в котором эти слои уже реализованы. \n",
    "\n",
    "Слой в TF Keras можно представить как функцию, которая принимает на вход некий тензор и преобразует его в выходной тензор, который будет использоваться последующими слоями."
   ]
  },
  {
   "cell_type": "markdown",
   "metadata": {},
   "source": [
    "<a name='3'></a>\n",
    "## 3 - Последовательный (Sequential) API\n",
    "\n",
    "Keras — это высокоуровневая абстракция, построенная на основе TensorFlow, которая позволяет упростить и оптимизировать создание и обучение моделей нейронных сетей. \n",
    "\n",
    "В первой части этого модуля мы создадим модель с использованием Sequential API TF Keras, которое позволяет соединять слой за слоем и особенно подходит для построения моделей, в которых каждый слой имеет **ровно один** входной тензор и **один** выходной тензор.\n",
    " \n",
    "Далее мы увидим, что использование Sequential API является простым и понятным, но удобно только для описания простых нейронных сетей. Альтернативой последовательного API является функциональное API."
   ]
  },
  {
   "cell_type": "markdown",
   "metadata": {},
   "source": [
    "<a name='3-1'></a>\n",
    "### 3.1 - Создание последовательной модели\n",
    "\n",
    "TensorFlow Keras Sequential API можно использовать для создания простых моделей с последовательно идущими слоями.\n",
    "\n",
    "Мы также можем добавлять слои в последовательную модель с помощью метода .add() или удалять их с помощью метода .pop(), так же, как мы можем это делать в обычном списке Python. На самом деле, можно воспринимать последовательную модель в виде списка слоев. Как и элементы в списке Python, слои в последовательной модели упорядочены. \n",
    "\n",
    "Для создания модели в  Keras нам необходимо сразу указать размерность входного слоя. Это связано с тем, что в Keras размерности весов зависят от размерностей входных данных. Веса создаются только тогда, когда модель впервые получает некоторые входные данные. Последовательные модели можно создать, передав список слоев конструктору класса Sequential.\n",
    "\n",
    "Создайте функцию `happyModel`, в которой будет собирать модель со следующей архитектурой: `ZEROPAD2D -> CONV2D -> BATCHNORM -> RELU -> MAXPOOL -> FLATTEN -> DENSE`. Документация по слоям фреймворка доступна по ссылке [tf.keras.layers](https://www.tensorflow.org/api_docs/python/tf/keras/layers) \n",
    "\n",
    "Параметры для слоев сети должны быть такими:\n",
    "\n",
    " - [ZeroPadding2D](https://www.tensorflow.org/api_docs/python/tf/keras/layers/ZeroPadding2D): padding 3, входная размерность 64 x 64 x 3\n",
    " - [Conv2D](https://www.tensorflow.org/api_docs/python/tf/keras/layers/Conv2D): используйте 32 фильтра размера 7x7, stride 1\n",
    " - [BatchNormalization](https://www.tensorflow.org/api_docs/python/tf/keras/layers/BatchNormalization): по третьей размерности\n",
    " - [ReLU](https://www.tensorflow.org/api_docs/python/tf/keras/layers/ReLU)\n",
    " - [MaxPool2D](https://www.tensorflow.org/api_docs/python/tf/keras/layers/MaxPool2D): для этого слоя используйте параметры по умолчанию\n",
    " - [Flatten](https://www.tensorflow.org/api_docs/python/tf/keras/layers/Flatten)\n",
    " - Fully-connected ([Dense](https://www.tensorflow.org/api_docs/python/tf/keras/layers/Dense)) используйте полносвязный слой с 1 нейроном и функцией активации sigmoid. \n",
    " \n",
    " \n",
    " **Обозначение:**\n",
    " \n",
    " Используйте **tfl** вместо **tensorflow.keras.layers** (см. вызов функций)"
   ]
  },
  {
   "cell_type": "code",
   "execution_count": 5,
   "metadata": {
    "deletable": false,
    "nbgrader": {
     "cell_type": "code",
     "checksum": "95d28b191f257bdd5b70c7b8952559d5",
     "grade": false,
     "grade_id": "cell-0e56d3fc28b69aec",
     "locked": false,
     "schema_version": 3,
     "solution": true,
     "task": false
    }
   },
   "outputs": [],
   "source": [
    "def happyModel():\n",
    "    \"\"\"\n",
    "    Возвращает модель с архитектурой:\n",
    "    ZEROPAD2D -> CONV2D -> BATCHNORM -> RELU -> MAXPOOL -> FLATTEN -> DENSE\n",
    "    \n",
    "    Для простоты параметры слоев будут заданы в коде в виде констант. \n",
    "    Часто оказывается разумным задавать эти параметры в виде переменных, подаваемых на вход функции.\n",
    "    \n",
    "    Аргументы:\n",
    "    None\n",
    "\n",
    "    Возвращает:\n",
    "    model -- модель TF Keras (объект, который содержит информацию о структуре нейронной сети и процессе ее обучения) \n",
    "    \"\"\"\n",
    "    model = tf.keras.Sequential([\n",
    "            ## ZeroPadding2D: padding 3, входная размерность 64 x 64 x 3\n",
    "            ## Conv2D: используйте 32 фильтра размера 7x7, stride 1          \n",
    "            ## BatchNormalization: по третьей размерности          \n",
    "            ## ReLU            \n",
    "            ## Max Pooling 2D: для этого слоя используйте параметры по умолчанию            \n",
    "            ## Flatten layer            \n",
    "            ## Dense layer: используйте полносвязный слой с 1 нейроном и функцией активации sigmoid. \n",
    "        ])\n",
    "    \n",
    "    return model"
   ]
  },
  {
   "cell_type": "code",
   "execution_count": 6,
   "metadata": {
    "deletable": false,
    "editable": false,
    "nbgrader": {
     "cell_type": "code",
     "checksum": "8d3575c950e2e78149be2d05d671c80d",
     "grade": true,
     "grade_id": "cell-e3e1046e5c33d775",
     "locked": true,
     "points": 10,
     "schema_version": 3,
     "solution": false,
     "task": false
    }
   },
   "outputs": [
    {
     "name": "stdout",
     "output_type": "stream",
     "text": [
      "Model: \"sequential\"\n",
      "_________________________________________________________________\n",
      "Layer (type)                 Output Shape              Param #   \n",
      "=================================================================\n",
      "zero_padding2d (ZeroPadding2 (None, 70, 70, 3)         0         \n",
      "_________________________________________________________________\n",
      "conv2d (Conv2D)              (None, 64, 64, 32)        4736      \n",
      "_________________________________________________________________\n",
      "batch_normalization (BatchNo (None, 64, 64, 32)        128       \n",
      "_________________________________________________________________\n",
      "re_lu (ReLU)                 (None, 64, 64, 32)        0         \n",
      "_________________________________________________________________\n",
      "max_pooling2d (MaxPooling2D) (None, 32, 32, 32)        0         \n",
      "_________________________________________________________________\n",
      "flatten (Flatten)            (None, 32768)             0         \n",
      "_________________________________________________________________\n",
      "dense (Dense)                (None, 1)                 32769     \n",
      "=================================================================\n",
      "Total params: 37,633\n",
      "Trainable params: 37,569\n",
      "Non-trainable params: 64\n",
      "_________________________________________________________________\n"
     ]
    }
   ],
   "source": [
    "happy_model = happyModel()\n",
    "# Вывод информации для каждого слоя\n",
    "happy_model.summary()"
   ]
  },
  {
   "cell_type": "markdown",
   "metadata": {},
   "source": [
    "#### Ожидаемый результат:\n",
    "\n",
    "```\n",
    "Model: \"sequential\"\n",
    "_________________________________________________________________\n",
    "Layer (type)                 Output Shape              Param #   \n",
    "=================================================================\n",
    "zero_padding2d (ZeroPaddin (None, 70, 70, 3)         0         \n",
    "_________________________________________________________________\n",
    "conv2d (Conv2D)            (None, 64, 64, 32)        4736      \n",
    "_________________________________________________________________\n",
    "batch_normalization (Batch (None, 64, 64, 32)        128       \n",
    "_________________________________________________________________\n",
    "re_lu (ReLU)               (None, 64, 64, 32)        0         \n",
    "_________________________________________________________________\n",
    "max_pooling2d (MaxPooling2 (None, 32, 32, 32)        0         \n",
    "_________________________________________________________________\n",
    "flatten (Flatten)          (None, 32768)             0         \n",
    "_________________________________________________________________\n",
    "dense (Dense)              (None, 1)                 32769     \n",
    "=================================================================\n",
    "Total params: 37,633\n",
    "Trainable params: 37,569\n",
    "Non-trainable params: 64\n",
    "_________________________________________________________________\n",
    "```"
   ]
  },
  {
   "cell_type": "markdown",
   "metadata": {},
   "source": [
    "Теперь, когда  модель создана, мы можем скомпилировать ее для обучения с помощью оптимизатора и функции потерь, которые мы выберем. Если строка `accuracy` используется в качестве метрики, тип используемой точности будет автоматически подобран на основе используемой функции потерь (например, BinaryAccuracy или CategoricalAccuracy). Это одна из многих функций, встроенных в TensorFlow, которые облегчают нашу жизнь. Если вы хотите узнать больше о том, как работает компилятор, ознакомьтесь с  [документацией](https://www.tensorflow.org/api_docs/python/tf/keras/Model#compile)."
   ]
  },
  {
   "cell_type": "code",
   "execution_count": 7,
   "metadata": {},
   "outputs": [],
   "source": [
    "happy_model.compile(optimizer='adam',\n",
    "                   loss='binary_crossentropy',\n",
    "                   metrics=['accuracy'])"
   ]
  },
  {
   "cell_type": "markdown",
   "metadata": {},
   "source": [
    "<a name='3-2'></a>\n",
    "### 3.2 - Обучение и вызов модели\n",
    "\n",
    "После создания модели, ее компиляции с выбранным нами оптимизатором и функцией потерь мы готовы начать ее обучение.\n",
    "\n",
    "Просто вызовите метод `.fit()` для начала обучения."
   ]
  },
  {
   "cell_type": "code",
   "execution_count": 8,
   "metadata": {},
   "outputs": [
    {
     "name": "stdout",
     "output_type": "stream",
     "text": [
      "Epoch 1/10\n",
      "38/38 [==============================] - 1s 24ms/step - loss: 1.3989 - accuracy: 0.6800\n",
      "Epoch 2/10\n",
      "38/38 [==============================] - 1s 24ms/step - loss: 0.2845 - accuracy: 0.8833\n",
      "Epoch 3/10\n",
      "38/38 [==============================] - 1s 23ms/step - loss: 0.1715 - accuracy: 0.9283\n",
      "Epoch 4/10\n",
      "38/38 [==============================] - 1s 23ms/step - loss: 0.0880 - accuracy: 0.9700\n",
      "Epoch 5/10\n",
      "38/38 [==============================] - 1s 24ms/step - loss: 0.1506 - accuracy: 0.9417\n",
      "Epoch 6/10\n",
      "38/38 [==============================] - 1s 24ms/step - loss: 0.0905 - accuracy: 0.9633\n",
      "Epoch 7/10\n",
      "38/38 [==============================] - 1s 24ms/step - loss: 0.0690 - accuracy: 0.9783\n",
      "Epoch 8/10\n",
      "38/38 [==============================] - 1s 25ms/step - loss: 0.1147 - accuracy: 0.9600\n",
      "Epoch 9/10\n",
      "38/38 [==============================] - 1s 24ms/step - loss: 0.2316 - accuracy: 0.9233\n",
      "Epoch 10/10\n",
      "38/38 [==============================] - 1s 24ms/step - loss: 0.0763 - accuracy: 0.9817\n"
     ]
    },
    {
     "data": {
      "text/plain": [
       "<tensorflow.python.keras.callbacks.History at 0x294abfba7f0>"
      ]
     },
     "execution_count": 8,
     "metadata": {},
     "output_type": "execute_result"
    }
   ],
   "source": [
    "happy_model.fit(X_train, Y_train, epochs=10, batch_size=16)"
   ]
  },
  {
   "cell_type": "markdown",
   "metadata": {},
   "source": [
    "После завершения обучения используйте метод `.evaluate()` для оценки модели на *test* части датасета. Этот метод выведет значение функции потерь и метрики, указанные при компиляции модели. В данном случае это «binary_crossentropy» и «accuracy» соответственно."
   ]
  },
  {
   "cell_type": "code",
   "execution_count": 9,
   "metadata": {},
   "outputs": [
    {
     "name": "stdout",
     "output_type": "stream",
     "text": [
      "5/5 [==============================] - 0s 6ms/step - loss: 0.1290 - accuracy: 0.9467\n"
     ]
    },
    {
     "data": {
      "text/plain": [
       "[0.1289973258972168, 0.9466666579246521]"
      ]
     },
     "execution_count": 9,
     "metadata": {},
     "output_type": "execute_result"
    }
   ],
   "source": [
    "happy_model.evaluate(X_test, Y_test)"
   ]
  },
  {
   "cell_type": "code",
   "execution_count": 10,
   "metadata": {},
   "outputs": [
    {
     "name": "stdout",
     "output_type": "stream",
     "text": [
      "WARNING:tensorflow:From c:\\Users\\Mekatto\\anaconda3\\lib\\site-packages\\tensorflow\\python\\training\\tracking\\tracking.py:111: Model.state_updates (from tensorflow.python.keras.engine.training) is deprecated and will be removed in a future version.\n",
      "Instructions for updating:\n",
      "This property should not be used in TensorFlow 2.0, as updates are applied automatically.\n",
      "WARNING:tensorflow:From c:\\Users\\Mekatto\\anaconda3\\lib\\site-packages\\tensorflow\\python\\training\\tracking\\tracking.py:111: Layer.updates (from tensorflow.python.keras.engine.base_layer) is deprecated and will be removed in a future version.\n",
      "Instructions for updating:\n",
      "This property should not be used in TensorFlow 2.0, as updates are applied automatically.\n",
      "INFO:tensorflow:Assets written to: ./sm/assets\n"
     ]
    }
   ],
   "source": [
    "tf.saved_model.save(happy_model, \"./sm/\")"
   ]
  },
  {
   "cell_type": "markdown",
   "metadata": {},
   "source": [
    "Пока что построение модели было довольно простой задачей. Но что, если нам нужно построить модель с общими слоями, ветвлением или несколькими входными и выходными данными? В этом случае применение Sequential API может быть быть затруднительно."
   ]
  },
  {
   "cell_type": "markdown",
   "metadata": {},
   "source": [
    "<a name='4'></a>\n",
    "## 4 - Функциональное (Functional) API"
   ]
  },
  {
   "cell_type": "markdown",
   "metadata": {},
   "source": [
    "В этой части модуля мы будем использовать [функциональное API](https://www.tensorflow.org/guide/keras/functional) для построения сверточной сети, которая сможет распознавать 6 цифр, изображенных на пальцах.\n",
    "\n",
    "Функциональный API может задавать модели с нелинейной топологией, общими слоями, а также слоями с несколькими входами или выходами. По сравнению с Sequential API, Functional API обеспечивает гораздо большую гибкость.\n",
    "\n",
    "Примером нелинейного построения модели может служить рисунок, изображенный ниже. На нем первый слой напрямую соединен с третьим, что, очевидно, позволяет передавать выход первого слоя сразу на третий, в обход второго слоя. Такое соединение называют \"skip connection\" и его часто можно встретить в архитектурах, например, в ResNet."
   ]
  },
  {
   "cell_type": "markdown",
   "metadata": {},
   "source": [
    "<img src=\"images/seq_vs_func.png\" style=\"width:350px;height:200px;\">"
   ]
  },
  {
   "cell_type": "markdown",
   "metadata": {},
   "source": [
    "<a name='4-1'></a>\n",
    "### 4.1 - Загрузка датасета"
   ]
  },
  {
   "cell_type": "code",
   "execution_count": 11,
   "metadata": {},
   "outputs": [],
   "source": [
    "X_train_orig, Y_train_orig, X_test_orig, Y_test_orig,  = load_dataset(\"train_signs.h5\", \"test_signs.h5\")"
   ]
  },
  {
   "cell_type": "markdown",
   "metadata": {},
   "source": [
    "<img src=\"images/SIGNS.png\" style=\"width:800px;height:300px;\">\n",
    "\n",
    "На изображении ниже показан пример изображение и его класс (4). Изменяя значение `index` можно просмотреть другие изображения в датасете."
   ]
  },
  {
   "cell_type": "code",
   "execution_count": 12,
   "metadata": {},
   "outputs": [
    {
     "name": "stdout",
     "output_type": "stream",
     "text": [
      "y = 4\n"
     ]
    },
    {
     "data": {
      "image/png": "[encoded data removed]",
      "text/plain": [
       "<Figure size 640x480 with 1 Axes>"
      ]
     },
     "metadata": {},
     "output_type": "display_data"
    }
   ],
   "source": [
    "index = 9\n",
    "plt.imshow(X_train_orig[index])\n",
    "print (\"y = \" + str(np.squeeze(Y_train_orig[:, index])))"
   ]
  },
  {
   "cell_type": "markdown",
   "metadata": {},
   "source": [
    "<a name='4-2'></a>\n",
    "### 4.2 - Разбиение датасета на Train/Test части"
   ]
  },
  {
   "cell_type": "code",
   "execution_count": 13,
   "metadata": {},
   "outputs": [
    {
     "name": "stdout",
     "output_type": "stream",
     "text": [
      "number of training examples = 1080\n",
      "number of test examples = 120\n",
      "X_train shape: (1080, 64, 64, 3)\n",
      "Y_train shape: (1080, 6)\n",
      "X_test shape: (120, 64, 64, 3)\n",
      "Y_test shape: (120, 6)\n"
     ]
    }
   ],
   "source": [
    "X_train = X_train_orig/255.\n",
    "X_test = X_test_orig/255.\n",
    "Y_train = tf.squeeze(tf.one_hot(Y_train_orig, 6))\n",
    "Y_test = tf.squeeze(tf.one_hot(Y_test_orig, 6))\n",
    "print (\"number of training examples = \" + str(X_train.shape[0]))\n",
    "print (\"number of test examples = \" + str(X_test.shape[0]))\n",
    "print (\"X_train shape: \" + str(X_train.shape))\n",
    "print (\"Y_train shape: \" + str(Y_train.shape))\n",
    "print (\"X_test shape: \" + str(X_test.shape))\n",
    "print (\"Y_test shape: \" + str(Y_test.shape))"
   ]
  },
  {
   "cell_type": "markdown",
   "metadata": {},
   "source": [
    "<a name='4-3'></a>\n",
    "### 4.3 - Построение модели\n",
    "\n",
    "Документация по функциональному API доступна здесь [Functional API](https://www.tensorflow.org/guide/keras/functional). При использовании этого API мы, по сути, создаем граф, вершинами которого являются слои. Такой подход обеспечивает нам высокую степень гибкости модели.\n",
    "\n",
    "Модель, которую мы будем рассматривать далее также может быть задана с использованием последовательного API, однако в этом задании мы будем использовать именно функциональный API.\n",
    "\n",
    "Начнем построение графа слоев с создания входного слоя.\n",
    "\n",
    "- **input_img = tf.keras.Input(shape=input_shape):** \n",
    "\n",
    "Затем создадим новыую вершину в графе, вызвав слой Conv2D и подав ему на вход объект `input_img`:\n",
    "\n",
    "- **tf.keras.layers.Conv2D(filters= ... , kernel_size= ... , padding='same')(input_img):** Документация по слою [Conv2D](https://www.tensorflow.org/api_docs/python/tf/keras/layers/Conv2D).\n",
    "\n",
    "- **tf.keras.layers.MaxPool2D(pool_size=(f, f), strides=(s, s), padding='same'):** `MaxPool2D()` уменьшим размерности тензора при помощи окна размером (f, f) и величиной сдвига окна (stride) (s, s).  Документация для слоя доступна тут [MaxPool2D](https://www.tensorflow.org/api_docs/python/tf/keras/layers/MaxPool2D).\n",
    "\n",
    "- **tf.keras.layers.ReLU():** вычисление функции активации [ReLU](https://www.tensorflow.org/api_docs/python/tf/keras/layers/ReLU).\n",
    "\n",
    "- **tf.keras.layers.Flatten()**: принимая на вход тензор \"P\", эта функция преобразует его в одномерный вектор\n",
    "\n",
    "    * Если тензор P имеет размерности (batch_size,h,w,c), flatten возвращает тензор размерностью (batch_size, k), где $k=h \\times w \\times c$.  \"k\" является произведением всех размерностей (за исключением batch size). [Flatten](https://www.tensorflow.org/api_docs/python/tf/keras/layers/Flatten).\n",
    "     \n",
    "\n",
    "- **tf.keras.layers.Dense(units= ... , activation='softmax')(F):** принимая на вход одномерный тензор F, возвращает выход послосвязного слоя. [Dense](https://www.tensorflow.org/api_docs/python/tf/keras/layers/Dense).\n",
    "\n",
    "\n",
    "Наконец, нам необходимо определить выходные данные, которые определяются выходным слоем (в данном случае полносвязным). Обратите внимание, что так как у нас\n",
    "6 классов, то и выходных нейронов будет 6:\n",
    "\n",
    "- **outputs = tf.keras.layers.Dense(units=6, activation='softmax')(F)**"
   ]
  },
  {
   "cell_type": "markdown",
   "metadata": {},
   "source": [
    "Напишите функцию `convolutional_model`, которая собирает следующую архитектуру: `CONV2D -> RELU -> MAXPOOL -> CONV2D -> RELU -> MAXPOOL -> FLATTEN -> DENSE`. Используйте функции, описанные выше.\n",
    "\n",
    "Параметры слоев должны быть следующие:\n",
    "\n",
    " - [Conv2D](https://www.tensorflow.org/api_docs/python/tf/keras/layers/Conv2D): Используйте 8 фильтров размера 4 на 4, шаг свертки 1, padding - \"SAME\"\n",
    " - [ReLU](https://www.tensorflow.org/api_docs/python/tf/keras/layers/ReLU)\n",
    " - [MaxPool2D](https://www.tensorflow.org/api_docs/python/tf/keras/layers/MaxPool2D): Используйте 8 фильтров размера 8 на 8, шаг 8 на 8, padding - \"SAME\"\n",
    " - **Conv2D**: Используйте 16 фильтров размера 2 на 2, шаг 1, padding - \"SAME\"\n",
    " - **ReLU**\n",
    " - **MaxPool2D**: Используйте 1 фильтр размера 4 на 4, шаг 4 на 4, padding - \"SAME\"\n",
    " - [Flatten](https://www.tensorflow.org/api_docs/python/tf/keras/layers/Flatten)\n",
    " - Fully-connected ([Dense](https://www.tensorflow.org/api_docs/python/tf/keras/layers/Dense)) в качестве последнего слоя используйте полносвязный слой с 6 нейронами, функция активации - softmax"
   ]
  },
  {
   "cell_type": "code",
   "execution_count": 14,
   "metadata": {
    "deletable": false,
    "nbgrader": {
     "cell_type": "code",
     "checksum": "f58643806aa8380c96225fc8b4c5e7aa",
     "grade": false,
     "grade_id": "cell-dac51744a9e03f51",
     "locked": false,
     "schema_version": 3,
     "solution": true,
     "task": false
    }
   },
   "outputs": [],
   "source": [
    "def convolutional_model(input_shape):\n",
    "    \"\"\"\n",
    "    Собирает следующую архитектуру нейронной сети:\n",
    "    CONV2D -> RELU -> MAXPOOL -> CONV2D -> RELU -> MAXPOOL -> FLATTEN -> DENSE\n",
    "    \n",
    "    Аргументы:\n",
    "    input_img -- входной тензор размера (input_shape)\n",
    "\n",
    "    Returns:\n",
    "    model -- модель TF Keras\n",
    "    \"\"\"\n",
    "\n",
    "    input_img = tf.keras.Input(shape=input_shape)\n",
    "    # CONV2D: 8 фильтров 4x4, шаг 1, padding 'SAME'\n",
    "    Z1 = None\n",
    "    # RELU\n",
    "    A1 = None\n",
    "    # MAXPOOL: окно 8x8, шаг 8, padding 'SAME'\n",
    "    P1 = None\n",
    "    # CONV2D: 16 фильтров 2x2, шаг 1, padding 'SAME'\n",
    "    Z2 = None\n",
    "    # RELU\n",
    "    A2 = None\n",
    "    # MAXPOOL: окно 4x4, шаг 4, padding 'SAME'\n",
    "    P2 = None\n",
    "    # FLATTEN\n",
    "    F = None\n",
    "    # Dense layer\n",
    "    # 6 нейрово в выходном слое. Один из аргументов должен быть \"activation='softmax'\" \n",
    "    outputs = None\n",
    "    model = tf.keras.Model(inputs=input_img, outputs=outputs)\n",
    "    return model"
   ]
  },
  {
   "cell_type": "code",
   "execution_count": 15,
   "metadata": {
    "deletable": false,
    "editable": false,
    "nbgrader": {
     "cell_type": "code",
     "checksum": "483d626949930a0b0ef20997e7c6ba72",
     "grade": true,
     "grade_id": "cell-45d22e92042174c9",
     "locked": true,
     "points": 10,
     "schema_version": 3,
     "solution": false,
     "task": false
    }
   },
   "outputs": [
    {
     "name": "stdout",
     "output_type": "stream",
     "text": [
      "Model: \"functional_1\"\n",
      "_________________________________________________________________\n",
      "Layer (type)                 Output Shape              Param #   \n",
      "=================================================================\n",
      "input_1 (InputLayer)         [(None, 64, 64, 3)]       0         \n",
      "_________________________________________________________________\n",
      "conv2d_1 (Conv2D)            (None, 64, 64, 8)         392       \n",
      "_________________________________________________________________\n",
      "re_lu_1 (ReLU)               (None, 64, 64, 8)         0         \n",
      "_________________________________________________________________\n",
      "max_pooling2d_1 (MaxPooling2 (None, 8, 8, 8)           0         \n",
      "_________________________________________________________________\n",
      "conv2d_2 (Conv2D)            (None, 8, 8, 16)          528       \n",
      "_________________________________________________________________\n",
      "re_lu_2 (ReLU)               (None, 8, 8, 16)          0         \n",
      "_________________________________________________________________\n",
      "max_pooling2d_2 (MaxPooling2 (None, 2, 2, 16)          0         \n",
      "_________________________________________________________________\n",
      "flatten_1 (Flatten)          (None, 64)                0         \n",
      "_________________________________________________________________\n",
      "dense_1 (Dense)              (None, 6)                 390       \n",
      "=================================================================\n",
      "Total params: 1,310\n",
      "Trainable params: 1,310\n",
      "Non-trainable params: 0\n",
      "_________________________________________________________________\n"
     ]
    }
   ],
   "source": [
    "conv_model = convolutional_model((64, 64, 3))\n",
    "conv_model.compile(optimizer='adam',\n",
    "                  loss='categorical_crossentropy',\n",
    "                  metrics=['accuracy'])\n",
    "conv_model.summary()\n",
    "    "
   ]
  },
  {
   "cell_type": "markdown",
   "metadata": {},
   "source": [
    "#### Ожидаемый результат:\n",
    "\n",
    "```\n",
    "Model: \"functional\"\n",
    "_________________________________________________________________\n",
    "Layer (type)                 Output Shape              Param #   \n",
    "=================================================================\n",
    "input (InputLayer)           [(None, 64, 64, 3)]       0         \n",
    "_________________________________________________________________\n",
    "conv2d (Conv2D)              (None, 64, 64, 8)         392       \n",
    "_________________________________________________________________\n",
    "re_lu (ReLU)                 (None, 64, 64, 8)         0         \n",
    "_________________________________________________________________\n",
    "max_pooling2d (MaxPooling2D) (None, 8, 8, 8)           0         \n",
    "_________________________________________________________________\n",
    "conv2d (Conv2D)              (None, 8, 8, 16)          528       \n",
    "_________________________________________________________________\n",
    "re_lu (ReLU)                 (None, 8, 8, 16)          0         \n",
    "_________________________________________________________________\n",
    "max_pooling2d   (MaxPooling2 (None, 2, 2, 16)          0         \n",
    "_________________________________________________________________\n",
    "flatten (Flatten)            (None, 64)                0         \n",
    "_________________________________________________________________\n",
    "dense (Dense)                (None, 6)                 390       \n",
    "=================================================================\n",
    "Total params: 1,310\n",
    "Trainable params: 1,310\n",
    "Non-trainable params: 0\n",
    "_________________________________________________________________\n",
    "```"
   ]
  },
  {
   "cell_type": "markdown",
   "metadata": {},
   "source": [
    "Both the Sequential and Functional APIs return a TF Keras model object. The only difference is how inputs are handled inside the object model! "
   ]
  },
  {
   "cell_type": "markdown",
   "metadata": {},
   "source": [
    "<a name='4-4'></a>\n",
    "### 4.4 - Train the Model"
   ]
  },
  {
   "cell_type": "code",
   "execution_count": 16,
   "metadata": {},
   "outputs": [
    {
     "name": "stdout",
     "output_type": "stream",
     "text": [
      "Epoch 1/100\n",
      "17/17 [==============================] - 0s 22ms/step - loss: 1.8170 - accuracy: 0.1667 - val_loss: 1.7907 - val_accuracy: 0.1667\n",
      "Epoch 2/100\n",
      "17/17 [==============================] - 0s 20ms/step - loss: 1.7887 - accuracy: 0.1694 - val_loss: 1.7820 - val_accuracy: 0.2000\n",
      "Epoch 3/100\n",
      "17/17 [==============================] - 0s 19ms/step - loss: 1.7827 - accuracy: 0.2370 - val_loss: 1.7760 - val_accuracy: 0.3000\n",
      "Epoch 4/100\n",
      "17/17 [==============================] - 0s 18ms/step - loss: 1.7783 - accuracy: 0.2741 - val_loss: 1.7713 - val_accuracy: 0.3667\n",
      "Epoch 5/100\n",
      "17/17 [==============================] - 0s 22ms/step - loss: 1.7742 - accuracy: 0.2926 - val_loss: 1.7671 - val_accuracy: 0.3750\n",
      "Epoch 6/100\n",
      "17/17 [==============================] - 0s 19ms/step - loss: 1.7695 - accuracy: 0.3167 - val_loss: 1.7619 - val_accuracy: 0.4000\n",
      "Epoch 7/100\n",
      "17/17 [==============================] - 0s 18ms/step - loss: 1.7645 - accuracy: 0.3148 - val_loss: 1.7557 - val_accuracy: 0.4167\n",
      "Epoch 8/100\n",
      "17/17 [==============================] - 0s 22ms/step - loss: 1.7580 - accuracy: 0.3352 - val_loss: 1.7477 - val_accuracy: 0.4167\n",
      "Epoch 9/100\n",
      "17/17 [==============================] - 0s 18ms/step - loss: 1.7496 - accuracy: 0.3565 - val_loss: 1.7378 - val_accuracy: 0.4500\n",
      "Epoch 10/100\n",
      "17/17 [==============================] - 0s 21ms/step - loss: 1.7383 - accuracy: 0.3602 - val_loss: 1.7253 - val_accuracy: 0.4167\n",
      "Epoch 11/100\n",
      "17/17 [==============================] - 0s 19ms/step - loss: 1.7249 - accuracy: 0.3852 - val_loss: 1.7116 - val_accuracy: 0.4500\n",
      "Epoch 12/100\n",
      "17/17 [==============================] - 0s 19ms/step - loss: 1.7079 - accuracy: 0.4000 - val_loss: 1.6917 - val_accuracy: 0.4583\n",
      "Epoch 13/100\n",
      "17/17 [==============================] - 0s 22ms/step - loss: 1.6875 - accuracy: 0.4157 - val_loss: 1.6706 - val_accuracy: 0.4667\n",
      "Epoch 14/100\n",
      "17/17 [==============================] - 0s 18ms/step - loss: 1.6619 - accuracy: 0.4370 - val_loss: 1.6389 - val_accuracy: 0.4417\n",
      "Epoch 15/100\n",
      "17/17 [==============================] - 0s 18ms/step - loss: 1.6280 - accuracy: 0.4454 - val_loss: 1.6072 - val_accuracy: 0.3833\n",
      "Epoch 16/100\n",
      "17/17 [==============================] - 0s 23ms/step - loss: 1.5947 - accuracy: 0.4537 - val_loss: 1.5737 - val_accuracy: 0.4000\n",
      "Epoch 17/100\n",
      "17/17 [==============================] - 0s 18ms/step - loss: 1.5557 - accuracy: 0.4806 - val_loss: 1.5368 - val_accuracy: 0.4250\n",
      "Epoch 18/100\n",
      "17/17 [==============================] - 0s 21ms/step - loss: 1.5131 - accuracy: 0.4935 - val_loss: 1.4923 - val_accuracy: 0.4583\n",
      "Epoch 19/100\n",
      "17/17 [==============================] - 0s 20ms/step - loss: 1.4678 - accuracy: 0.5139 - val_loss: 1.4465 - val_accuracy: 0.5000\n",
      "Epoch 20/100\n",
      "17/17 [==============================] - 0s 19ms/step - loss: 1.4204 - accuracy: 0.5306 - val_loss: 1.4006 - val_accuracy: 0.5750\n",
      "Epoch 21/100\n",
      "17/17 [==============================] - 0s 23ms/step - loss: 1.3734 - accuracy: 0.5444 - val_loss: 1.3561 - val_accuracy: 0.6083\n",
      "Epoch 22/100\n",
      "17/17 [==============================] - 0s 19ms/step - loss: 1.3267 - accuracy: 0.5537 - val_loss: 1.3168 - val_accuracy: 0.6250\n",
      "Epoch 23/100\n",
      "17/17 [==============================] - 0s 20ms/step - loss: 1.2834 - accuracy: 0.5685 - val_loss: 1.2773 - val_accuracy: 0.6250\n",
      "Epoch 24/100\n",
      "17/17 [==============================] - 0s 21ms/step - loss: 1.2414 - accuracy: 0.5833 - val_loss: 1.2439 - val_accuracy: 0.6167\n",
      "Epoch 25/100\n",
      "17/17 [==============================] - 0s 18ms/step - loss: 1.2035 - accuracy: 0.6000 - val_loss: 1.2112 - val_accuracy: 0.6250\n",
      "Epoch 26/100\n",
      "17/17 [==============================] - 0s 22ms/step - loss: 1.1675 - accuracy: 0.6074 - val_loss: 1.1835 - val_accuracy: 0.6167\n",
      "Epoch 27/100\n",
      "17/17 [==============================] - 0s 19ms/step - loss: 1.1355 - accuracy: 0.6102 - val_loss: 1.1536 - val_accuracy: 0.6250\n",
      "Epoch 28/100\n",
      "17/17 [==============================] - 0s 19ms/step - loss: 1.1042 - accuracy: 0.6222 - val_loss: 1.1286 - val_accuracy: 0.6333\n",
      "Epoch 29/100\n",
      "17/17 [==============================] - 0s 23ms/step - loss: 1.0756 - accuracy: 0.6306 - val_loss: 1.1036 - val_accuracy: 0.6250\n",
      "Epoch 30/100\n",
      "17/17 [==============================] - 0s 19ms/step - loss: 1.0474 - accuracy: 0.6380 - val_loss: 1.0800 - val_accuracy: 0.6250\n",
      "Epoch 31/100\n",
      "17/17 [==============================] - 0s 21ms/step - loss: 1.0240 - accuracy: 0.6463 - val_loss: 1.0577 - val_accuracy: 0.6417\n",
      "Epoch 32/100\n",
      "17/17 [==============================] - 0s 20ms/step - loss: 0.9999 - accuracy: 0.6537 - val_loss: 1.0376 - val_accuracy: 0.6417\n",
      "Epoch 33/100\n",
      "17/17 [==============================] - 0s 19ms/step - loss: 0.9767 - accuracy: 0.6630 - val_loss: 1.0196 - val_accuracy: 0.6333\n",
      "Epoch 34/100\n",
      "17/17 [==============================] - 0s 22ms/step - loss: 0.9554 - accuracy: 0.6676 - val_loss: 1.0020 - val_accuracy: 0.6417\n",
      "Epoch 35/100\n",
      "17/17 [==============================] - 0s 19ms/step - loss: 0.9370 - accuracy: 0.6815 - val_loss: 0.9861 - val_accuracy: 0.6417\n",
      "Epoch 36/100\n",
      "17/17 [==============================] - 0s 19ms/step - loss: 0.9171 - accuracy: 0.6843 - val_loss: 0.9690 - val_accuracy: 0.6500\n",
      "Epoch 37/100\n",
      "17/17 [==============================] - 0s 22ms/step - loss: 0.9001 - accuracy: 0.6880 - val_loss: 0.9554 - val_accuracy: 0.6583\n",
      "Epoch 38/100\n",
      "17/17 [==============================] - 0s 18ms/step - loss: 0.8827 - accuracy: 0.6944 - val_loss: 0.9407 - val_accuracy: 0.6583\n",
      "Epoch 39/100\n",
      "17/17 [==============================] - 0s 21ms/step - loss: 0.8667 - accuracy: 0.7000 - val_loss: 0.9281 - val_accuracy: 0.6583\n",
      "Epoch 40/100\n",
      "17/17 [==============================] - 0s 20ms/step - loss: 0.8519 - accuracy: 0.7046 - val_loss: 0.9153 - val_accuracy: 0.6667\n",
      "Epoch 41/100\n",
      "17/17 [==============================] - 0s 18ms/step - loss: 0.8377 - accuracy: 0.7102 - val_loss: 0.9037 - val_accuracy: 0.6667\n",
      "Epoch 42/100\n",
      "17/17 [==============================] - 0s 22ms/step - loss: 0.8239 - accuracy: 0.7102 - val_loss: 0.8933 - val_accuracy: 0.6667\n",
      "Epoch 43/100\n",
      "17/17 [==============================] - 0s 18ms/step - loss: 0.8106 - accuracy: 0.7139 - val_loss: 0.8818 - val_accuracy: 0.6750\n",
      "Epoch 44/100\n",
      "17/17 [==============================] - 0s 19ms/step - loss: 0.7981 - accuracy: 0.7213 - val_loss: 0.8724 - val_accuracy: 0.6833\n",
      "Epoch 45/100\n",
      "17/17 [==============================] - 0s 21ms/step - loss: 0.7865 - accuracy: 0.7278 - val_loss: 0.8637 - val_accuracy: 0.6750\n",
      "Epoch 46/100\n",
      "17/17 [==============================] - 0s 18ms/step - loss: 0.7746 - accuracy: 0.7306 - val_loss: 0.8545 - val_accuracy: 0.6833\n",
      "Epoch 47/100\n",
      "17/17 [==============================] - 0s 22ms/step - loss: 0.7635 - accuracy: 0.7324 - val_loss: 0.8451 - val_accuracy: 0.6917\n",
      "Epoch 48/100\n",
      "17/17 [==============================] - 0s 19ms/step - loss: 0.7532 - accuracy: 0.7361 - val_loss: 0.8383 - val_accuracy: 0.6917\n",
      "Epoch 49/100\n",
      "17/17 [==============================] - 0s 18ms/step - loss: 0.7432 - accuracy: 0.7398 - val_loss: 0.8292 - val_accuracy: 0.6917\n",
      "Epoch 50/100\n",
      "17/17 [==============================] - 0s 22ms/step - loss: 0.7335 - accuracy: 0.7472 - val_loss: 0.8230 - val_accuracy: 0.6917\n",
      "Epoch 51/100\n",
      "17/17 [==============================] - 0s 19ms/step - loss: 0.7242 - accuracy: 0.7509 - val_loss: 0.8157 - val_accuracy: 0.6917\n",
      "Epoch 52/100\n",
      "17/17 [==============================] - 0s 19ms/step - loss: 0.7152 - accuracy: 0.7528 - val_loss: 0.8096 - val_accuracy: 0.6917\n",
      "Epoch 53/100\n",
      "17/17 [==============================] - 0s 20ms/step - loss: 0.7065 - accuracy: 0.7574 - val_loss: 0.8024 - val_accuracy: 0.6917\n",
      "Epoch 54/100\n",
      "17/17 [==============================] - 0s 18ms/step - loss: 0.6981 - accuracy: 0.7620 - val_loss: 0.7968 - val_accuracy: 0.6917\n",
      "Epoch 55/100\n",
      "17/17 [==============================] - 0s 22ms/step - loss: 0.6897 - accuracy: 0.7704 - val_loss: 0.7900 - val_accuracy: 0.6917\n",
      "Epoch 56/100\n",
      "17/17 [==============================] - 0s 19ms/step - loss: 0.6817 - accuracy: 0.7750 - val_loss: 0.7841 - val_accuracy: 0.7083\n",
      "Epoch 57/100\n",
      "17/17 [==============================] - 0s 18ms/step - loss: 0.6740 - accuracy: 0.7796 - val_loss: 0.7789 - val_accuracy: 0.7000\n",
      "Epoch 58/100\n",
      "17/17 [==============================] - 0s 23ms/step - loss: 0.6664 - accuracy: 0.7852 - val_loss: 0.7719 - val_accuracy: 0.7083\n",
      "Epoch 59/100\n",
      "17/17 [==============================] - 0s 19ms/step - loss: 0.6593 - accuracy: 0.7870 - val_loss: 0.7655 - val_accuracy: 0.7417\n",
      "Epoch 60/100\n",
      "17/17 [==============================] - 0s 19ms/step - loss: 0.6521 - accuracy: 0.7907 - val_loss: 0.7589 - val_accuracy: 0.7417\n",
      "Epoch 61/100\n",
      "17/17 [==============================] - 0s 20ms/step - loss: 0.6448 - accuracy: 0.7926 - val_loss: 0.7531 - val_accuracy: 0.7417\n",
      "Epoch 62/100\n",
      "17/17 [==============================] - 0s 18ms/step - loss: 0.6383 - accuracy: 0.7944 - val_loss: 0.7479 - val_accuracy: 0.7417\n",
      "Epoch 63/100\n",
      "17/17 [==============================] - 0s 22ms/step - loss: 0.6312 - accuracy: 0.7944 - val_loss: 0.7432 - val_accuracy: 0.7417\n",
      "Epoch 64/100\n",
      "17/17 [==============================] - 0s 19ms/step - loss: 0.6246 - accuracy: 0.7954 - val_loss: 0.7387 - val_accuracy: 0.7417\n",
      "Epoch 65/100\n",
      "17/17 [==============================] - 0s 18ms/step - loss: 0.6179 - accuracy: 0.7963 - val_loss: 0.7333 - val_accuracy: 0.7417\n",
      "Epoch 66/100\n",
      "17/17 [==============================] - 0s 22ms/step - loss: 0.6116 - accuracy: 0.7963 - val_loss: 0.7288 - val_accuracy: 0.7417\n",
      "Epoch 67/100\n",
      "17/17 [==============================] - 0s 19ms/step - loss: 0.6053 - accuracy: 0.8028 - val_loss: 0.7248 - val_accuracy: 0.7417\n",
      "Epoch 68/100\n",
      "17/17 [==============================] - 0s 20ms/step - loss: 0.5996 - accuracy: 0.8028 - val_loss: 0.7212 - val_accuracy: 0.7417\n",
      "Epoch 69/100\n",
      "17/17 [==============================] - 0s 19ms/step - loss: 0.5937 - accuracy: 0.8074 - val_loss: 0.7153 - val_accuracy: 0.7583\n",
      "Epoch 70/100\n",
      "17/17 [==============================] - 0s 19ms/step - loss: 0.5883 - accuracy: 0.8111 - val_loss: 0.7130 - val_accuracy: 0.7500\n",
      "Epoch 71/100\n",
      "17/17 [==============================] - 0s 22ms/step - loss: 0.5825 - accuracy: 0.8130 - val_loss: 0.7071 - val_accuracy: 0.7500\n",
      "Epoch 72/100\n",
      "17/17 [==============================] - 0s 19ms/step - loss: 0.5765 - accuracy: 0.8157 - val_loss: 0.7041 - val_accuracy: 0.7583\n",
      "Epoch 73/100\n",
      "17/17 [==============================] - 0s 19ms/step - loss: 0.5716 - accuracy: 0.8194 - val_loss: 0.7006 - val_accuracy: 0.7583\n",
      "Epoch 74/100\n",
      "17/17 [==============================] - 0s 23ms/step - loss: 0.5655 - accuracy: 0.8176 - val_loss: 0.6973 - val_accuracy: 0.7583\n",
      "Epoch 75/100\n",
      "17/17 [==============================] - 0s 19ms/step - loss: 0.5606 - accuracy: 0.8204 - val_loss: 0.6937 - val_accuracy: 0.7583\n",
      "Epoch 76/100\n",
      "17/17 [==============================] - 0s 21ms/step - loss: 0.5552 - accuracy: 0.8222 - val_loss: 0.6906 - val_accuracy: 0.7667\n",
      "Epoch 77/100\n",
      "17/17 [==============================] - 0s 19ms/step - loss: 0.5503 - accuracy: 0.8222 - val_loss: 0.6886 - val_accuracy: 0.7667\n",
      "Epoch 78/100\n",
      "17/17 [==============================] - 0s 18ms/step - loss: 0.5457 - accuracy: 0.8259 - val_loss: 0.6856 - val_accuracy: 0.7667\n",
      "Epoch 79/100\n",
      "17/17 [==============================] - 0s 22ms/step - loss: 0.5410 - accuracy: 0.8259 - val_loss: 0.6822 - val_accuracy: 0.7667\n",
      "Epoch 80/100\n",
      "17/17 [==============================] - 0s 19ms/step - loss: 0.5362 - accuracy: 0.8278 - val_loss: 0.6779 - val_accuracy: 0.7667\n",
      "Epoch 81/100\n",
      "17/17 [==============================] - 0s 18ms/step - loss: 0.5317 - accuracy: 0.8287 - val_loss: 0.6776 - val_accuracy: 0.7667\n",
      "Epoch 82/100\n",
      "17/17 [==============================] - 0s 23ms/step - loss: 0.5273 - accuracy: 0.8306 - val_loss: 0.6743 - val_accuracy: 0.7667\n",
      "Epoch 83/100\n",
      "17/17 [==============================] - 0s 18ms/step - loss: 0.5226 - accuracy: 0.8306 - val_loss: 0.6716 - val_accuracy: 0.7667\n",
      "Epoch 84/100\n",
      "17/17 [==============================] - 0s 21ms/step - loss: 0.5179 - accuracy: 0.8306 - val_loss: 0.6706 - val_accuracy: 0.7750\n",
      "Epoch 85/100\n",
      "17/17 [==============================] - 0s 19ms/step - loss: 0.5131 - accuracy: 0.8352 - val_loss: 0.6694 - val_accuracy: 0.7667\n",
      "Epoch 86/100\n",
      "17/17 [==============================] - 0s 18ms/step - loss: 0.5093 - accuracy: 0.8324 - val_loss: 0.6666 - val_accuracy: 0.7750\n",
      "Epoch 87/100\n",
      "17/17 [==============================] - 0s 22ms/step - loss: 0.5049 - accuracy: 0.8352 - val_loss: 0.6650 - val_accuracy: 0.7750\n",
      "Epoch 88/100\n",
      "17/17 [==============================] - 0s 19ms/step - loss: 0.4998 - accuracy: 0.8361 - val_loss: 0.6608 - val_accuracy: 0.7750\n",
      "Epoch 89/100\n",
      "17/17 [==============================] - 0s 18ms/step - loss: 0.4955 - accuracy: 0.8380 - val_loss: 0.6593 - val_accuracy: 0.7750\n",
      "Epoch 90/100\n",
      "17/17 [==============================] - 0s 23ms/step - loss: 0.4914 - accuracy: 0.8398 - val_loss: 0.6546 - val_accuracy: 0.7667\n",
      "Epoch 91/100\n",
      "17/17 [==============================] - 0s 18ms/step - loss: 0.4875 - accuracy: 0.8417 - val_loss: 0.6534 - val_accuracy: 0.7750\n",
      "Epoch 92/100\n",
      "17/17 [==============================] - 0s 21ms/step - loss: 0.4829 - accuracy: 0.8426 - val_loss: 0.6512 - val_accuracy: 0.7750\n",
      "Epoch 93/100\n",
      "17/17 [==============================] - 0s 19ms/step - loss: 0.4787 - accuracy: 0.8435 - val_loss: 0.6461 - val_accuracy: 0.7667\n",
      "Epoch 94/100\n",
      "17/17 [==============================] - 0s 18ms/step - loss: 0.4749 - accuracy: 0.8417 - val_loss: 0.6452 - val_accuracy: 0.7667\n",
      "Epoch 95/100\n",
      "17/17 [==============================] - 0s 22ms/step - loss: 0.4704 - accuracy: 0.8491 - val_loss: 0.6455 - val_accuracy: 0.7750\n",
      "Epoch 96/100\n",
      "17/17 [==============================] - 0s 19ms/step - loss: 0.4661 - accuracy: 0.8481 - val_loss: 0.6363 - val_accuracy: 0.7667\n",
      "Epoch 97/100\n",
      "17/17 [==============================] - 0s 19ms/step - loss: 0.4625 - accuracy: 0.8481 - val_loss: 0.6432 - val_accuracy: 0.7750\n",
      "Epoch 98/100\n",
      "17/17 [==============================] - 0s 22ms/step - loss: 0.4589 - accuracy: 0.8519 - val_loss: 0.6408 - val_accuracy: 0.7750\n",
      "Epoch 99/100\n",
      "17/17 [==============================] - 0s 19ms/step - loss: 0.4541 - accuracy: 0.8537 - val_loss: 0.6320 - val_accuracy: 0.7750\n",
      "Epoch 100/100\n",
      "17/17 [==============================] - 0s 22ms/step - loss: 0.4511 - accuracy: 0.8528 - val_loss: 0.6316 - val_accuracy: 0.7833\n"
     ]
    }
   ],
   "source": [
    "train_dataset = tf.data.Dataset.from_tensor_slices((X_train, Y_train)).batch(64)\n",
    "test_dataset = tf.data.Dataset.from_tensor_slices((X_test, Y_test)).batch(64)\n",
    "history = conv_model.fit(train_dataset, epochs=100, validation_data=test_dataset)"
   ]
  },
  {
   "cell_type": "markdown",
   "metadata": {},
   "source": [
    "<a name='5'></a>\n",
    "## 5 - Объект History \n",
    "\n",
    "Метод `.fit()` на выходе дает объект history, который содержит запись всех метрик, получаемых во время обучения. Они хранятся в словаре, получить доступ к которомо можно следующий образом: `history.history`: "
   ]
  },
  {
   "cell_type": "code",
   "execution_count": 17,
   "metadata": {},
   "outputs": [
    {
     "data": {
      "text/plain": [
       "{'loss': [1.817047357559204,\n",
       "  1.788735270500183,\n",
       "  1.7826520204544067,\n",
       "  1.778319239616394,\n",
       "  1.7742124795913696,\n",
       "  1.7695363759994507,\n",
       "  1.7645481824874878,\n",
       "  1.7579933404922485,\n",
       "  1.7495776414871216,\n",
       "  1.7383103370666504,\n",
       "  1.7248966693878174,\n",
       "  1.7079346179962158,\n",
       "  1.6874887943267822,\n",
       "  1.6618998050689697,\n",
       "  1.6280486583709717,\n",
       "  1.5946831703186035,\n",
       "  1.555656909942627,\n",
       "  1.5131163597106934,\n",
       "  1.4677832126617432,\n",
       "  1.4204285144805908,\n",
       "  1.37338387966156,\n",
       "  1.3267195224761963,\n",
       "  1.2834023237228394,\n",
       "  1.2414345741271973,\n",
       "  1.2034679651260376,\n",
       "  1.1675373315811157,\n",
       "  1.1355054378509521,\n",
       "  1.104175090789795,\n",
       "  1.0756022930145264,\n",
       "  1.0473939180374146,\n",
       "  1.0240318775177002,\n",
       "  0.9998931884765625,\n",
       "  0.9766931533813477,\n",
       "  0.9554168581962585,\n",
       "  0.9369858503341675,\n",
       "  0.9170676469802856,\n",
       "  0.9001339077949524,\n",
       "  0.8827494978904724,\n",
       "  0.8667231798171997,\n",
       "  0.8519251346588135,\n",
       "  0.8377151489257812,\n",
       "  0.8239297866821289,\n",
       "  0.810580313205719,\n",
       "  0.7981274724006653,\n",
       "  0.7864808440208435,\n",
       "  0.7745625972747803,\n",
       "  0.7634594440460205,\n",
       "  0.7531527876853943,\n",
       "  0.7431653141975403,\n",
       "  0.7335471510887146,\n",
       "  0.7241544127464294,\n",
       "  0.715153694152832,\n",
       "  0.7064559459686279,\n",
       "  0.6981479525566101,\n",
       "  0.6897310018539429,\n",
       "  0.6816746592521667,\n",
       "  0.6740288734436035,\n",
       "  0.6663591265678406,\n",
       "  0.6592535376548767,\n",
       "  0.6521360874176025,\n",
       "  0.6448221206665039,\n",
       "  0.6382787823677063,\n",
       "  0.6312049627304077,\n",
       "  0.6245538592338562,\n",
       "  0.6179463863372803,\n",
       "  0.6116369366645813,\n",
       "  0.6052661538124084,\n",
       "  0.5996103286743164,\n",
       "  0.5936523675918579,\n",
       "  0.5882862210273743,\n",
       "  0.5824680924415588,\n",
       "  0.5765308737754822,\n",
       "  0.5715655088424683,\n",
       "  0.5655097961425781,\n",
       "  0.560580849647522,\n",
       "  0.5551638603210449,\n",
       "  0.5503142476081848,\n",
       "  0.5456929802894592,\n",
       "  0.5409618020057678,\n",
       "  0.536194384098053,\n",
       "  0.5317452549934387,\n",
       "  0.5273348093032837,\n",
       "  0.5225802659988403,\n",
       "  0.5178849697113037,\n",
       "  0.5131080746650696,\n",
       "  0.5092583894729614,\n",
       "  0.5049124360084534,\n",
       "  0.4998197853565216,\n",
       "  0.4954662621021271,\n",
       "  0.4913651645183563,\n",
       "  0.4874977469444275,\n",
       "  0.48287421464920044,\n",
       "  0.4787091314792633,\n",
       "  0.4748733639717102,\n",
       "  0.4703814685344696,\n",
       "  0.46608445048332214,\n",
       "  0.4625018835067749,\n",
       "  0.4589012861251831,\n",
       "  0.4541255235671997,\n",
       "  0.45112964510917664],\n",
       " 'accuracy': [0.1666666716337204,\n",
       "  0.16944444179534912,\n",
       "  0.2370370328426361,\n",
       "  0.27407407760620117,\n",
       "  0.2925925850868225,\n",
       "  0.3166666626930237,\n",
       "  0.31481480598449707,\n",
       "  0.3351851999759674,\n",
       "  0.35648149251937866,\n",
       "  0.3601851761341095,\n",
       "  0.385185182094574,\n",
       "  0.4000000059604645,\n",
       "  0.4157407283782959,\n",
       "  0.43703705072402954,\n",
       "  0.4453703761100769,\n",
       "  0.45370370149612427,\n",
       "  0.48055556416511536,\n",
       "  0.49351853132247925,\n",
       "  0.5138888955116272,\n",
       "  0.5305555462837219,\n",
       "  0.5444444417953491,\n",
       "  0.5537037253379822,\n",
       "  0.5685185194015503,\n",
       "  0.5833333134651184,\n",
       "  0.6000000238418579,\n",
       "  0.6074073910713196,\n",
       "  0.6101852059364319,\n",
       "  0.6222222447395325,\n",
       "  0.6305555701255798,\n",
       "  0.6379629373550415,\n",
       "  0.6462963223457336,\n",
       "  0.6537036895751953,\n",
       "  0.6629629731178284,\n",
       "  0.6675925850868225,\n",
       "  0.6814814805984497,\n",
       "  0.6842592358589172,\n",
       "  0.6879629492759705,\n",
       "  0.6944444179534912,\n",
       "  0.699999988079071,\n",
       "  0.7046296000480652,\n",
       "  0.710185170173645,\n",
       "  0.710185170173645,\n",
       "  0.7138888835906982,\n",
       "  0.7212963104248047,\n",
       "  0.7277777791023254,\n",
       "  0.730555534362793,\n",
       "  0.7324073910713196,\n",
       "  0.7361111044883728,\n",
       "  0.739814817905426,\n",
       "  0.7472222447395325,\n",
       "  0.7509258985519409,\n",
       "  0.7527777552604675,\n",
       "  0.7574074268341064,\n",
       "  0.7620370388031006,\n",
       "  0.770370364189148,\n",
       "  0.7749999761581421,\n",
       "  0.779629647731781,\n",
       "  0.7851851582527161,\n",
       "  0.7870370149612427,\n",
       "  0.7907407283782959,\n",
       "  0.7925925850868225,\n",
       "  0.7944444417953491,\n",
       "  0.7944444417953491,\n",
       "  0.7953703999519348,\n",
       "  0.7962962985038757,\n",
       "  0.7962962985038757,\n",
       "  0.8027777671813965,\n",
       "  0.8027777671813965,\n",
       "  0.8074073791503906,\n",
       "  0.8111110925674438,\n",
       "  0.8129629492759705,\n",
       "  0.8157407641410828,\n",
       "  0.8194444179534912,\n",
       "  0.8175926208496094,\n",
       "  0.8203703761100769,\n",
       "  0.8222222328186035,\n",
       "  0.8222222328186035,\n",
       "  0.8259259462356567,\n",
       "  0.8259259462356567,\n",
       "  0.8277778029441833,\n",
       "  0.8287037014961243,\n",
       "  0.8305555582046509,\n",
       "  0.8305555582046509,\n",
       "  0.8305555582046509,\n",
       "  0.835185170173645,\n",
       "  0.8324074149131775,\n",
       "  0.835185170173645,\n",
       "  0.8361111283302307,\n",
       "  0.8379629850387573,\n",
       "  0.8398148417472839,\n",
       "  0.8416666388511658,\n",
       "  0.8425925970077515,\n",
       "  0.8435184955596924,\n",
       "  0.8416666388511658,\n",
       "  0.8490740656852722,\n",
       "  0.8481481671333313,\n",
       "  0.8481481671333313,\n",
       "  0.8518518805503845,\n",
       "  0.8537036776542664,\n",
       "  0.8527777791023254],\n",
       " 'val_loss': [1.7907358407974243,\n",
       "  1.7820109128952026,\n",
       "  1.7760130167007446,\n",
       "  1.7713298797607422,\n",
       "  1.7671114206314087,\n",
       "  1.7619277238845825,\n",
       "  1.7556594610214233,\n",
       "  1.7476710081100464,\n",
       "  1.7378346920013428,\n",
       "  1.7253448963165283,\n",
       "  1.711553931236267,\n",
       "  1.6917357444763184,\n",
       "  1.6705665588378906,\n",
       "  1.638920545578003,\n",
       "  1.6071794033050537,\n",
       "  1.5736801624298096,\n",
       "  1.53681480884552,\n",
       "  1.4922689199447632,\n",
       "  1.4465006589889526,\n",
       "  1.4006309509277344,\n",
       "  1.3560731410980225,\n",
       "  1.3168436288833618,\n",
       "  1.2772834300994873,\n",
       "  1.243911623954773,\n",
       "  1.2111760377883911,\n",
       "  1.183465838432312,\n",
       "  1.1536242961883545,\n",
       "  1.1285624504089355,\n",
       "  1.1036065816879272,\n",
       "  1.0799840688705444,\n",
       "  1.0576657056808472,\n",
       "  1.0375609397888184,\n",
       "  1.0196459293365479,\n",
       "  1.0020146369934082,\n",
       "  0.9860566258430481,\n",
       "  0.9689662456512451,\n",
       "  0.9553534984588623,\n",
       "  0.9406862854957581,\n",
       "  0.9280544519424438,\n",
       "  0.9153128266334534,\n",
       "  0.9037120342254639,\n",
       "  0.8932656645774841,\n",
       "  0.8818126916885376,\n",
       "  0.8724416494369507,\n",
       "  0.8636882305145264,\n",
       "  0.85445636510849,\n",
       "  0.8451455235481262,\n",
       "  0.838345468044281,\n",
       "  0.8291628956794739,\n",
       "  0.8230040669441223,\n",
       "  0.815744936466217,\n",
       "  0.8095945119857788,\n",
       "  0.8024210333824158,\n",
       "  0.7967770099639893,\n",
       "  0.7900346517562866,\n",
       "  0.7841260433197021,\n",
       "  0.7788822054862976,\n",
       "  0.7719348669052124,\n",
       "  0.7655342817306519,\n",
       "  0.7589097619056702,\n",
       "  0.7531204223632812,\n",
       "  0.7478907108306885,\n",
       "  0.7432165741920471,\n",
       "  0.7386772036552429,\n",
       "  0.7333158850669861,\n",
       "  0.7287513017654419,\n",
       "  0.7247867584228516,\n",
       "  0.7212372422218323,\n",
       "  0.7153497338294983,\n",
       "  0.7129719853401184,\n",
       "  0.707098662853241,\n",
       "  0.7040747404098511,\n",
       "  0.7005804181098938,\n",
       "  0.6972637176513672,\n",
       "  0.6937434673309326,\n",
       "  0.6906457543373108,\n",
       "  0.6885775923728943,\n",
       "  0.6856169104576111,\n",
       "  0.6822176575660706,\n",
       "  0.6779003143310547,\n",
       "  0.6776142120361328,\n",
       "  0.6743236184120178,\n",
       "  0.6715611815452576,\n",
       "  0.6706225275993347,\n",
       "  0.6693707704544067,\n",
       "  0.6666365265846252,\n",
       "  0.6649627089500427,\n",
       "  0.6607756018638611,\n",
       "  0.6593099236488342,\n",
       "  0.6546184420585632,\n",
       "  0.6534196138381958,\n",
       "  0.6512381434440613,\n",
       "  0.6461202502250671,\n",
       "  0.6452279686927795,\n",
       "  0.645481288433075,\n",
       "  0.636279821395874,\n",
       "  0.64323890209198,\n",
       "  0.6407797336578369,\n",
       "  0.6319953799247742,\n",
       "  0.6316013336181641],\n",
       " 'val_accuracy': [0.1666666716337204,\n",
       "  0.20000000298023224,\n",
       "  0.30000001192092896,\n",
       "  0.36666667461395264,\n",
       "  0.375,\n",
       "  0.4000000059604645,\n",
       "  0.4166666567325592,\n",
       "  0.4166666567325592,\n",
       "  0.44999998807907104,\n",
       "  0.4166666567325592,\n",
       "  0.44999998807907104,\n",
       "  0.4583333432674408,\n",
       "  0.46666666865348816,\n",
       "  0.4416666626930237,\n",
       "  0.38333332538604736,\n",
       "  0.4000000059604645,\n",
       "  0.42500001192092896,\n",
       "  0.4583333432674408,\n",
       "  0.5,\n",
       "  0.574999988079071,\n",
       "  0.6083333492279053,\n",
       "  0.625,\n",
       "  0.625,\n",
       "  0.6166666746139526,\n",
       "  0.625,\n",
       "  0.6166666746139526,\n",
       "  0.625,\n",
       "  0.6333333253860474,\n",
       "  0.625,\n",
       "  0.625,\n",
       "  0.6416666507720947,\n",
       "  0.6416666507720947,\n",
       "  0.6333333253860474,\n",
       "  0.6416666507720947,\n",
       "  0.6416666507720947,\n",
       "  0.6499999761581421,\n",
       "  0.6583333611488342,\n",
       "  0.6583333611488342,\n",
       "  0.6583333611488342,\n",
       "  0.6666666865348816,\n",
       "  0.6666666865348816,\n",
       "  0.6666666865348816,\n",
       "  0.675000011920929,\n",
       "  0.6833333373069763,\n",
       "  0.675000011920929,\n",
       "  0.6833333373069763,\n",
       "  0.6916666626930237,\n",
       "  0.6916666626930237,\n",
       "  0.6916666626930237,\n",
       "  0.6916666626930237,\n",
       "  0.6916666626930237,\n",
       "  0.6916666626930237,\n",
       "  0.6916666626930237,\n",
       "  0.6916666626930237,\n",
       "  0.6916666626930237,\n",
       "  0.7083333134651184,\n",
       "  0.699999988079071,\n",
       "  0.7083333134651184,\n",
       "  0.7416666746139526,\n",
       "  0.7416666746139526,\n",
       "  0.7416666746139526,\n",
       "  0.7416666746139526,\n",
       "  0.7416666746139526,\n",
       "  0.7416666746139526,\n",
       "  0.7416666746139526,\n",
       "  0.7416666746139526,\n",
       "  0.7416666746139526,\n",
       "  0.7416666746139526,\n",
       "  0.7583333253860474,\n",
       "  0.75,\n",
       "  0.75,\n",
       "  0.7583333253860474,\n",
       "  0.7583333253860474,\n",
       "  0.7583333253860474,\n",
       "  0.7583333253860474,\n",
       "  0.7666666507720947,\n",
       "  0.7666666507720947,\n",
       "  0.7666666507720947,\n",
       "  0.7666666507720947,\n",
       "  0.7666666507720947,\n",
       "  0.7666666507720947,\n",
       "  0.7666666507720947,\n",
       "  0.7666666507720947,\n",
       "  0.7749999761581421,\n",
       "  0.7666666507720947,\n",
       "  0.7749999761581421,\n",
       "  0.7749999761581421,\n",
       "  0.7749999761581421,\n",
       "  0.7749999761581421,\n",
       "  0.7666666507720947,\n",
       "  0.7749999761581421,\n",
       "  0.7749999761581421,\n",
       "  0.7666666507720947,\n",
       "  0.7666666507720947,\n",
       "  0.7749999761581421,\n",
       "  0.7666666507720947,\n",
       "  0.7749999761581421,\n",
       "  0.7749999761581421,\n",
       "  0.7749999761581421,\n",
       "  0.7833333611488342]}"
      ]
     },
     "execution_count": 17,
     "metadata": {},
     "output_type": "execute_result"
    }
   ],
   "source": [
    "history.history"
   ]
  },
  {
   "cell_type": "markdown",
   "metadata": {},
   "source": [
    "Теперь отобразим эти метрики на графике, используя тот же словарь `history.history`: "
   ]
  },
  {
   "cell_type": "code",
   "execution_count": 18,
   "metadata": {},
   "outputs": [
    {
     "data": {
      "text/plain": [
       "[Text(0.5, 0, 'Epoch'), Text(0, 0.5, 'Accuracy')]"
      ]
     },
     "execution_count": 18,
     "metadata": {},
     "output_type": "execute_result"
    },
    {
     "data": {
      "image/png": "[encoded data removed]",
      "text/plain": [
       "<Figure size 1200x800 with 1 Axes>"
      ]
     },
     "metadata": {},
     "output_type": "display_data"
    },
    {
     "data": {
      "image/png": "[encoded data removed]",
      "text/plain": [
       "<Figure size 1200x800 with 1 Axes>"
      ]
     },
     "metadata": {},
     "output_type": "display_data"
    }
   ],
   "source": [
    "pd.options.mode.chained_assignment = None  # default='warn'\n",
    "\n",
    "df_loss_acc = pd.DataFrame(history.history)\n",
    "df_loss= df_loss_acc[['loss','val_loss']]\n",
    "df_loss.rename(columns={'loss':'train','val_loss':'validation'},inplace=True)\n",
    "df_acc= df_loss_acc[['accuracy','val_accuracy']]\n",
    "df_acc.rename(columns={'accuracy':'train','val_accuracy':'validation'},inplace=True)\n",
    "df_loss.plot(title='Model loss',figsize=(12,8)).set(xlabel='Epoch',ylabel='Loss')\n",
    "df_acc.plot(title='Model Accuracy',figsize=(12,8)).set(xlabel='Epoch',ylabel='Accuracy')"
   ]
  }
 ],
 "metadata": {
  "coursera": {
   "course_slug": "convolutional-neural-networks",
   "graded_item_id": "bwbJV",
   "launcher_item_id": "0TkXB"
  },
  "kernelspec": {
   "display_name": "Python 3",
   "language": "python",
   "name": "python3"
  },
  "language_info": {
   "codemirror_mode": {
    "name": "ipython",
    "version": 3
   },
   "file_extension": ".py",
   "mimetype": "text/x-python",
   "name": "python",
   "nbconvert_exporter": "python",
   "pygments_lexer": "ipython3",
   "version": "3.8.8"
  }
 },
 "nbformat": 4,
 "nbformat_minor": 2
}
